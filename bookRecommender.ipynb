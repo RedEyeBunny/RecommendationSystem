{
 "cells": [
  {
   "cell_type": "code",
   "execution_count": 46,
   "id": "initial_id",
   "metadata": {
    "collapsed": true,
    "ExecuteTime": {
     "end_time": "2024-09-13T06:12:50.872696326Z",
     "start_time": "2024-09-13T06:12:50.666570930Z"
    }
   },
   "outputs": [],
   "source": [
    "import numpy as np\n",
    "import pandas as pd"
   ]
  },
  {
   "cell_type": "code",
   "outputs": [
    {
     "name": "stderr",
     "output_type": "stream",
     "text": [
      "/tmp/ipykernel_11007/2778774417.py:1: DtypeWarning: Columns (3) have mixed types. Specify dtype option on import or set low_memory=False.\n",
      "  books=pd.read_csv('Books.csv')\n"
     ]
    }
   ],
   "source": [
    "books=pd.read_csv('Books.csv')\n",
    "ratings=pd.read_csv('Ratings.csv')\n",
    "user=pd.read_csv('Users.csv')"
   ],
   "metadata": {
    "collapsed": false,
    "ExecuteTime": {
     "end_time": "2024-09-13T06:12:53.257564293Z",
     "start_time": "2024-09-13T06:12:50.874122875Z"
    }
   },
   "id": "12453c6fd294321b",
   "execution_count": 47
  },
  {
   "cell_type": "code",
   "outputs": [
    {
     "data": {
      "text/plain": "         ISBN                                         Book-Title  \\\n0  0195153448                                Classical Mythology   \n1  0002005018                                       Clara Callan   \n2  0060973129                               Decision in Normandy   \n3  0374157065  Flu: The Story of the Great Influenza Pandemic...   \n4  0393045218                             The Mummies of Urumchi   \n\n            Book-Author Year-Of-Publication                   Publisher  \\\n0    Mark P. O. Morford                2002     Oxford University Press   \n1  Richard Bruce Wright                2001       HarperFlamingo Canada   \n2          Carlo D'Este                1991             HarperPerennial   \n3      Gina Bari Kolata                1999        Farrar Straus Giroux   \n4       E. J. W. Barber                1999  W. W. Norton &amp; Company   \n\n                                         Image-URL-S  \\\n0  http://images.amazon.com/images/P/0195153448.0...   \n1  http://images.amazon.com/images/P/0002005018.0...   \n2  http://images.amazon.com/images/P/0060973129.0...   \n3  http://images.amazon.com/images/P/0374157065.0...   \n4  http://images.amazon.com/images/P/0393045218.0...   \n\n                                         Image-URL-M  \\\n0  http://images.amazon.com/images/P/0195153448.0...   \n1  http://images.amazon.com/images/P/0002005018.0...   \n2  http://images.amazon.com/images/P/0060973129.0...   \n3  http://images.amazon.com/images/P/0374157065.0...   \n4  http://images.amazon.com/images/P/0393045218.0...   \n\n                                         Image-URL-L  \n0  http://images.amazon.com/images/P/0195153448.0...  \n1  http://images.amazon.com/images/P/0002005018.0...  \n2  http://images.amazon.com/images/P/0060973129.0...  \n3  http://images.amazon.com/images/P/0374157065.0...  \n4  http://images.amazon.com/images/P/0393045218.0...  ",
      "text/html": "<div>\n<style scoped>\n    .dataframe tbody tr th:only-of-type {\n        vertical-align: middle;\n    }\n\n    .dataframe tbody tr th {\n        vertical-align: top;\n    }\n\n    .dataframe thead th {\n        text-align: right;\n    }\n</style>\n<table border=\"1\" class=\"dataframe\">\n  <thead>\n    <tr style=\"text-align: right;\">\n      <th></th>\n      <th>ISBN</th>\n      <th>Book-Title</th>\n      <th>Book-Author</th>\n      <th>Year-Of-Publication</th>\n      <th>Publisher</th>\n      <th>Image-URL-S</th>\n      <th>Image-URL-M</th>\n      <th>Image-URL-L</th>\n    </tr>\n  </thead>\n  <tbody>\n    <tr>\n      <th>0</th>\n      <td>0195153448</td>\n      <td>Classical Mythology</td>\n      <td>Mark P. O. Morford</td>\n      <td>2002</td>\n      <td>Oxford University Press</td>\n      <td>http://images.amazon.com/images/P/0195153448.0...</td>\n      <td>http://images.amazon.com/images/P/0195153448.0...</td>\n      <td>http://images.amazon.com/images/P/0195153448.0...</td>\n    </tr>\n    <tr>\n      <th>1</th>\n      <td>0002005018</td>\n      <td>Clara Callan</td>\n      <td>Richard Bruce Wright</td>\n      <td>2001</td>\n      <td>HarperFlamingo Canada</td>\n      <td>http://images.amazon.com/images/P/0002005018.0...</td>\n      <td>http://images.amazon.com/images/P/0002005018.0...</td>\n      <td>http://images.amazon.com/images/P/0002005018.0...</td>\n    </tr>\n    <tr>\n      <th>2</th>\n      <td>0060973129</td>\n      <td>Decision in Normandy</td>\n      <td>Carlo D'Este</td>\n      <td>1991</td>\n      <td>HarperPerennial</td>\n      <td>http://images.amazon.com/images/P/0060973129.0...</td>\n      <td>http://images.amazon.com/images/P/0060973129.0...</td>\n      <td>http://images.amazon.com/images/P/0060973129.0...</td>\n    </tr>\n    <tr>\n      <th>3</th>\n      <td>0374157065</td>\n      <td>Flu: The Story of the Great Influenza Pandemic...</td>\n      <td>Gina Bari Kolata</td>\n      <td>1999</td>\n      <td>Farrar Straus Giroux</td>\n      <td>http://images.amazon.com/images/P/0374157065.0...</td>\n      <td>http://images.amazon.com/images/P/0374157065.0...</td>\n      <td>http://images.amazon.com/images/P/0374157065.0...</td>\n    </tr>\n    <tr>\n      <th>4</th>\n      <td>0393045218</td>\n      <td>The Mummies of Urumchi</td>\n      <td>E. J. W. Barber</td>\n      <td>1999</td>\n      <td>W. W. Norton &amp;amp; Company</td>\n      <td>http://images.amazon.com/images/P/0393045218.0...</td>\n      <td>http://images.amazon.com/images/P/0393045218.0...</td>\n      <td>http://images.amazon.com/images/P/0393045218.0...</td>\n    </tr>\n  </tbody>\n</table>\n</div>"
     },
     "execution_count": 48,
     "metadata": {},
     "output_type": "execute_result"
    }
   ],
   "source": [
    "books.head()"
   ],
   "metadata": {
    "collapsed": false,
    "ExecuteTime": {
     "end_time": "2024-09-13T06:12:53.341724271Z",
     "start_time": "2024-09-13T06:12:53.259510303Z"
    }
   },
   "id": "dcd5a90ce10d98ea",
   "execution_count": 48
  },
  {
   "cell_type": "code",
   "outputs": [
    {
     "data": {
      "text/plain": "271360"
     },
     "execution_count": 49,
     "metadata": {},
     "output_type": "execute_result"
    }
   ],
   "source": [
    "books.shape[0]# rows"
   ],
   "metadata": {
    "collapsed": false,
    "ExecuteTime": {
     "end_time": "2024-09-13T06:12:53.344256201Z",
     "start_time": "2024-09-13T06:12:53.329675072Z"
    }
   },
   "id": "8879b190e9168ac6",
   "execution_count": 49
  },
  {
   "cell_type": "code",
   "outputs": [
    {
     "data": {
      "text/plain": "ISBN                   0\nBook-Title             0\nBook-Author            2\nYear-Of-Publication    0\nPublisher              2\nImage-URL-S            0\nImage-URL-M            0\nImage-URL-L            3\ndtype: int64"
     },
     "execution_count": 50,
     "metadata": {},
     "output_type": "execute_result"
    }
   ],
   "source": [
    "#isnull() will convert the data to true/false based on if there is a null value\n",
    "#sum() will add the true values and tell the number of empty fields in every column\n",
    "books.isnull().sum()"
   ],
   "metadata": {
    "collapsed": false,
    "ExecuteTime": {
     "end_time": "2024-09-13T06:12:53.532875421Z",
     "start_time": "2024-09-13T06:12:53.433361234Z"
    }
   },
   "id": "9c2aaf805ee49abd",
   "execution_count": 50
  },
  {
   "cell_type": "code",
   "outputs": [
    {
     "data": {
      "text/plain": "User-ID        0\nISBN           0\nBook-Rating    0\ndtype: int64"
     },
     "execution_count": 51,
     "metadata": {},
     "output_type": "execute_result"
    }
   ],
   "source": [
    "ratings.isnull().sum()"
   ],
   "metadata": {
    "collapsed": false,
    "ExecuteTime": {
     "end_time": "2024-09-13T06:12:53.623422243Z",
     "start_time": "2024-09-13T06:12:53.452174222Z"
    }
   },
   "id": "6bbba3d41ff9a26a",
   "execution_count": 51
  },
  {
   "cell_type": "code",
   "outputs": [
    {
     "data": {
      "text/plain": "              ISBN      Book-Title      Book-Author  Year-Of-Publication  \\\ncount       271360          271360           271358               271360   \nunique      271360          242135           102022                  202   \ntop     0195153448  Selected Poems  Agatha Christie                 2002   \nfreq             1              27              632                13903   \n\n        Publisher                                        Image-URL-S  \\\ncount      271358                                             271360   \nunique      16807                                             271044   \ntop     Harlequin  http://images.amazon.com/images/P/185326119X.0...   \nfreq         7535                                                  2   \n\n                                              Image-URL-M  \\\ncount                                              271360   \nunique                                             271044   \ntop     http://images.amazon.com/images/P/185326119X.0...   \nfreq                                                    2   \n\n                                              Image-URL-L  \ncount                                              271357  \nunique                                             271041  \ntop     http://images.amazon.com/images/P/225307649X.0...  \nfreq                                                    2  ",
      "text/html": "<div>\n<style scoped>\n    .dataframe tbody tr th:only-of-type {\n        vertical-align: middle;\n    }\n\n    .dataframe tbody tr th {\n        vertical-align: top;\n    }\n\n    .dataframe thead th {\n        text-align: right;\n    }\n</style>\n<table border=\"1\" class=\"dataframe\">\n  <thead>\n    <tr style=\"text-align: right;\">\n      <th></th>\n      <th>ISBN</th>\n      <th>Book-Title</th>\n      <th>Book-Author</th>\n      <th>Year-Of-Publication</th>\n      <th>Publisher</th>\n      <th>Image-URL-S</th>\n      <th>Image-URL-M</th>\n      <th>Image-URL-L</th>\n    </tr>\n  </thead>\n  <tbody>\n    <tr>\n      <th>count</th>\n      <td>271360</td>\n      <td>271360</td>\n      <td>271358</td>\n      <td>271360</td>\n      <td>271358</td>\n      <td>271360</td>\n      <td>271360</td>\n      <td>271357</td>\n    </tr>\n    <tr>\n      <th>unique</th>\n      <td>271360</td>\n      <td>242135</td>\n      <td>102022</td>\n      <td>202</td>\n      <td>16807</td>\n      <td>271044</td>\n      <td>271044</td>\n      <td>271041</td>\n    </tr>\n    <tr>\n      <th>top</th>\n      <td>0195153448</td>\n      <td>Selected Poems</td>\n      <td>Agatha Christie</td>\n      <td>2002</td>\n      <td>Harlequin</td>\n      <td>http://images.amazon.com/images/P/185326119X.0...</td>\n      <td>http://images.amazon.com/images/P/185326119X.0...</td>\n      <td>http://images.amazon.com/images/P/225307649X.0...</td>\n    </tr>\n    <tr>\n      <th>freq</th>\n      <td>1</td>\n      <td>27</td>\n      <td>632</td>\n      <td>13903</td>\n      <td>7535</td>\n      <td>2</td>\n      <td>2</td>\n      <td>2</td>\n    </tr>\n  </tbody>\n</table>\n</div>"
     },
     "execution_count": 52,
     "metadata": {},
     "output_type": "execute_result"
    }
   ],
   "source": [
    "books.describe()"
   ],
   "metadata": {
    "collapsed": false,
    "ExecuteTime": {
     "end_time": "2024-09-13T06:12:54.581568077Z",
     "start_time": "2024-09-13T06:12:53.689492122Z"
    }
   },
   "id": "5867e423e4016f70",
   "execution_count": 52
  },
  {
   "cell_type": "code",
   "outputs": [
    {
     "data": {
      "text/plain": "0                                  Oxford University Press\n1                                    HarperFlamingo Canada\n2                                          HarperPerennial\n3                                     Farrar Straus Giroux\n4                               W. W. Norton &amp; Company\n                                ...                       \n271355                     Random House Childrens Pub (Mm)\n271356                                        Dutton Books\n271357                                  HarperSanFrancisco\n271358                             Oxford University Press\n271359    McGraw-Hill Humanities/Social Sciences/Languages\nName: Publisher, Length: 271360, dtype: object"
     },
     "execution_count": 53,
     "metadata": {},
     "output_type": "execute_result"
    }
   ],
   "source": [
    "books.Publisher"
   ],
   "metadata": {
    "collapsed": false,
    "ExecuteTime": {
     "end_time": "2024-09-13T06:12:54.587342369Z",
     "start_time": "2024-09-13T06:12:54.583152327Z"
    }
   },
   "id": "e9a00a4a67f5be54",
   "execution_count": 53
  },
  {
   "cell_type": "markdown",
   "source": [
    "# Popularity based"
   ],
   "metadata": {
    "collapsed": false
   },
   "id": "b6bc1cabf8c3df28"
  },
  {
   "cell_type": "code",
   "outputs": [
    {
     "data": {
      "text/plain": "         User-ID         ISBN  Book-Rating\n0         276725   034545104X            0\n1         276726   0155061224            5\n2         276727   0446520802            0\n3         276729   052165615X            3\n4         276729   0521795028            6\n...          ...          ...          ...\n1149775   276704   1563526298            9\n1149776   276706   0679447156            0\n1149777   276709   0515107662           10\n1149778   276721   0590442449           10\n1149779   276723  05162443314            8\n\n[1149780 rows x 3 columns]",
      "text/html": "<div>\n<style scoped>\n    .dataframe tbody tr th:only-of-type {\n        vertical-align: middle;\n    }\n\n    .dataframe tbody tr th {\n        vertical-align: top;\n    }\n\n    .dataframe thead th {\n        text-align: right;\n    }\n</style>\n<table border=\"1\" class=\"dataframe\">\n  <thead>\n    <tr style=\"text-align: right;\">\n      <th></th>\n      <th>User-ID</th>\n      <th>ISBN</th>\n      <th>Book-Rating</th>\n    </tr>\n  </thead>\n  <tbody>\n    <tr>\n      <th>0</th>\n      <td>276725</td>\n      <td>034545104X</td>\n      <td>0</td>\n    </tr>\n    <tr>\n      <th>1</th>\n      <td>276726</td>\n      <td>0155061224</td>\n      <td>5</td>\n    </tr>\n    <tr>\n      <th>2</th>\n      <td>276727</td>\n      <td>0446520802</td>\n      <td>0</td>\n    </tr>\n    <tr>\n      <th>3</th>\n      <td>276729</td>\n      <td>052165615X</td>\n      <td>3</td>\n    </tr>\n    <tr>\n      <th>4</th>\n      <td>276729</td>\n      <td>0521795028</td>\n      <td>6</td>\n    </tr>\n    <tr>\n      <th>...</th>\n      <td>...</td>\n      <td>...</td>\n      <td>...</td>\n    </tr>\n    <tr>\n      <th>1149775</th>\n      <td>276704</td>\n      <td>1563526298</td>\n      <td>9</td>\n    </tr>\n    <tr>\n      <th>1149776</th>\n      <td>276706</td>\n      <td>0679447156</td>\n      <td>0</td>\n    </tr>\n    <tr>\n      <th>1149777</th>\n      <td>276709</td>\n      <td>0515107662</td>\n      <td>10</td>\n    </tr>\n    <tr>\n      <th>1149778</th>\n      <td>276721</td>\n      <td>0590442449</td>\n      <td>10</td>\n    </tr>\n    <tr>\n      <th>1149779</th>\n      <td>276723</td>\n      <td>05162443314</td>\n      <td>8</td>\n    </tr>\n  </tbody>\n</table>\n<p>1149780 rows × 3 columns</p>\n</div>"
     },
     "execution_count": 54,
     "metadata": {},
     "output_type": "execute_result"
    }
   ],
   "source": [
    "ratings"
   ],
   "metadata": {
    "collapsed": false,
    "ExecuteTime": {
     "end_time": "2024-09-13T06:12:54.623591392Z",
     "start_time": "2024-09-13T06:12:54.589219147Z"
    }
   },
   "id": "4a16abc4d2489f9e",
   "execution_count": 54
  },
  {
   "cell_type": "code",
   "outputs": [],
   "source": [
    "books.drop('Image-URL-L',axis=1,inplace=True)\n"
   ],
   "metadata": {
    "collapsed": false,
    "ExecuteTime": {
     "end_time": "2024-09-13T06:12:54.688744367Z",
     "start_time": "2024-09-13T06:12:54.605546771Z"
    }
   },
   "id": "8084763fa126733",
   "execution_count": 55
  },
  {
   "cell_type": "code",
   "outputs": [],
   "source": [
    "books.drop('Image-URL-S',axis=1,inplace=True)"
   ],
   "metadata": {
    "collapsed": false,
    "ExecuteTime": {
     "end_time": "2024-09-13T06:12:54.764276299Z",
     "start_time": "2024-09-13T06:12:54.640469703Z"
    }
   },
   "id": "999878d12c58a72a",
   "execution_count": 56
  },
  {
   "cell_type": "code",
   "outputs": [],
   "source": [
    "books.drop('Image-URL-M',axis=1,inplace=True) "
   ],
   "metadata": {
    "collapsed": false,
    "ExecuteTime": {
     "end_time": "2024-09-13T06:12:54.809646134Z",
     "start_time": "2024-09-13T06:12:54.683425096Z"
    }
   },
   "id": "ab6c4ea847c1dd07",
   "execution_count": 57
  },
  {
   "cell_type": "code",
   "outputs": [
    {
     "data": {
      "text/plain": "              ISBN                                         Book-Title  \\\n0       0195153448                                Classical Mythology   \n1       0002005018                                       Clara Callan   \n2       0060973129                               Decision in Normandy   \n3       0374157065  Flu: The Story of the Great Influenza Pandemic...   \n4       0393045218                             The Mummies of Urumchi   \n...            ...                                                ...   \n271355  0440400988                         There's a Bat in Bunk Five   \n271356  0525447644                            From One to One Hundred   \n271357  006008667X  Lily Dale : The True Story of the Town that Ta...   \n271358  0192126040                        Republic (World's Classics)   \n271359  0767409752  A Guided Tour of Rene Descartes' Meditations o...   \n\n                 Book-Author Year-Of-Publication  \\\n0         Mark P. O. Morford                2002   \n1       Richard Bruce Wright                2001   \n2               Carlo D'Este                1991   \n3           Gina Bari Kolata                1999   \n4            E. J. W. Barber                1999   \n...                      ...                 ...   \n271355        Paula Danziger                1988   \n271356            Teri Sloat                1991   \n271357      Christine Wicker                2004   \n271358                 Plato                1996   \n271359   Christopher  Biffle                2000   \n\n                                               Publisher  \n0                                Oxford University Press  \n1                                  HarperFlamingo Canada  \n2                                        HarperPerennial  \n3                                   Farrar Straus Giroux  \n4                             W. W. Norton &amp; Company  \n...                                                  ...  \n271355                   Random House Childrens Pub (Mm)  \n271356                                      Dutton Books  \n271357                                HarperSanFrancisco  \n271358                           Oxford University Press  \n271359  McGraw-Hill Humanities/Social Sciences/Languages  \n\n[271360 rows x 5 columns]",
      "text/html": "<div>\n<style scoped>\n    .dataframe tbody tr th:only-of-type {\n        vertical-align: middle;\n    }\n\n    .dataframe tbody tr th {\n        vertical-align: top;\n    }\n\n    .dataframe thead th {\n        text-align: right;\n    }\n</style>\n<table border=\"1\" class=\"dataframe\">\n  <thead>\n    <tr style=\"text-align: right;\">\n      <th></th>\n      <th>ISBN</th>\n      <th>Book-Title</th>\n      <th>Book-Author</th>\n      <th>Year-Of-Publication</th>\n      <th>Publisher</th>\n    </tr>\n  </thead>\n  <tbody>\n    <tr>\n      <th>0</th>\n      <td>0195153448</td>\n      <td>Classical Mythology</td>\n      <td>Mark P. O. Morford</td>\n      <td>2002</td>\n      <td>Oxford University Press</td>\n    </tr>\n    <tr>\n      <th>1</th>\n      <td>0002005018</td>\n      <td>Clara Callan</td>\n      <td>Richard Bruce Wright</td>\n      <td>2001</td>\n      <td>HarperFlamingo Canada</td>\n    </tr>\n    <tr>\n      <th>2</th>\n      <td>0060973129</td>\n      <td>Decision in Normandy</td>\n      <td>Carlo D'Este</td>\n      <td>1991</td>\n      <td>HarperPerennial</td>\n    </tr>\n    <tr>\n      <th>3</th>\n      <td>0374157065</td>\n      <td>Flu: The Story of the Great Influenza Pandemic...</td>\n      <td>Gina Bari Kolata</td>\n      <td>1999</td>\n      <td>Farrar Straus Giroux</td>\n    </tr>\n    <tr>\n      <th>4</th>\n      <td>0393045218</td>\n      <td>The Mummies of Urumchi</td>\n      <td>E. J. W. Barber</td>\n      <td>1999</td>\n      <td>W. W. Norton &amp;amp; Company</td>\n    </tr>\n    <tr>\n      <th>...</th>\n      <td>...</td>\n      <td>...</td>\n      <td>...</td>\n      <td>...</td>\n      <td>...</td>\n    </tr>\n    <tr>\n      <th>271355</th>\n      <td>0440400988</td>\n      <td>There's a Bat in Bunk Five</td>\n      <td>Paula Danziger</td>\n      <td>1988</td>\n      <td>Random House Childrens Pub (Mm)</td>\n    </tr>\n    <tr>\n      <th>271356</th>\n      <td>0525447644</td>\n      <td>From One to One Hundred</td>\n      <td>Teri Sloat</td>\n      <td>1991</td>\n      <td>Dutton Books</td>\n    </tr>\n    <tr>\n      <th>271357</th>\n      <td>006008667X</td>\n      <td>Lily Dale : The True Story of the Town that Ta...</td>\n      <td>Christine Wicker</td>\n      <td>2004</td>\n      <td>HarperSanFrancisco</td>\n    </tr>\n    <tr>\n      <th>271358</th>\n      <td>0192126040</td>\n      <td>Republic (World's Classics)</td>\n      <td>Plato</td>\n      <td>1996</td>\n      <td>Oxford University Press</td>\n    </tr>\n    <tr>\n      <th>271359</th>\n      <td>0767409752</td>\n      <td>A Guided Tour of Rene Descartes' Meditations o...</td>\n      <td>Christopher  Biffle</td>\n      <td>2000</td>\n      <td>McGraw-Hill Humanities/Social Sciences/Languages</td>\n    </tr>\n  </tbody>\n</table>\n<p>271360 rows × 5 columns</p>\n</div>"
     },
     "execution_count": 58,
     "metadata": {},
     "output_type": "execute_result"
    }
   ],
   "source": [
    "books"
   ],
   "metadata": {
    "collapsed": false,
    "ExecuteTime": {
     "end_time": "2024-09-13T06:12:54.812060585Z",
     "start_time": "2024-09-13T06:12:54.727345966Z"
    }
   },
   "id": "a5c53410ad7817cc",
   "execution_count": 58
  },
  {
   "cell_type": "markdown",
   "source": [
    "# Popularity based recommendation system"
   ],
   "metadata": {
    "collapsed": false
   },
   "id": "38a967b7fc17dd37"
  },
  {
   "cell_type": "code",
   "outputs": [
    {
     "data": {
      "text/plain": "(1031136, 7)"
     },
     "execution_count": 59,
     "metadata": {},
     "output_type": "execute_result"
    }
   ],
   "source": [
    "new_table=ratings.merge(books,on='ISBN') #merge the 2 tables on ISBN column\n",
    "ratings.merge(books,on='ISBN').shape"
   ],
   "metadata": {
    "collapsed": false,
    "ExecuteTime": {
     "end_time": "2024-09-13T06:12:55.905831294Z",
     "start_time": "2024-09-13T06:12:54.728015617Z"
    }
   },
   "id": "e8fe7342ff4c780d",
   "execution_count": 59
  },
  {
   "cell_type": "code",
   "outputs": [
    {
     "data": {
      "text/plain": "         User-ID        ISBN  Book-Rating  \\\n0         276725  034545104X            0   \n1           2313  034545104X            5   \n2           6543  034545104X            0   \n3           8680  034545104X            5   \n4          10314  034545104X            9   \n...          ...         ...          ...   \n1031131   276688  0517145553            0   \n1031132   276688  1575660792            7   \n1031133   276690  0590907301            0   \n1031134   276704  0679752714            0   \n1031135   276704  0806917695            5   \n\n                                                Book-Title      Book-Author  \\\n0                                     Flesh Tones: A Novel       M. J. Rose   \n1                                     Flesh Tones: A Novel       M. J. Rose   \n2                                     Flesh Tones: A Novel       M. J. Rose   \n3                                     Flesh Tones: A Novel       M. J. Rose   \n4                                     Flesh Tones: A Novel       M. J. Rose   \n...                                                    ...              ...   \n1031131                                    Mostly Harmless    Douglas Adams   \n1031132                                        Gray Matter  Shirley Kennett   \n1031133  Triplet Trouble and the Class Trip (Triplet Tr...     Debbie Dadey   \n1031134  A Desert of Pure Feeling (Vintage Contemporaries)   Judith Freeman   \n1031135  Perplexing Lateral Thinking Puzzles: Scholasti...      Paul Sloane   \n\n        Year-Of-Publication                          Publisher  \n0                      2002                   Ballantine Books  \n1                      2002                   Ballantine Books  \n2                      2002                   Ballantine Books  \n3                      2002                   Ballantine Books  \n4                      2002                   Ballantine Books  \n...                     ...                                ...  \n1031131                1995             Random House Value Pub  \n1031132                1996  Kensington Publishing Corporation  \n1031133                1997                              Apple  \n1031134                1997                  Vintage Books USA  \n1031135                1997                Sterling Publishing  \n\n[1031136 rows x 7 columns]",
      "text/html": "<div>\n<style scoped>\n    .dataframe tbody tr th:only-of-type {\n        vertical-align: middle;\n    }\n\n    .dataframe tbody tr th {\n        vertical-align: top;\n    }\n\n    .dataframe thead th {\n        text-align: right;\n    }\n</style>\n<table border=\"1\" class=\"dataframe\">\n  <thead>\n    <tr style=\"text-align: right;\">\n      <th></th>\n      <th>User-ID</th>\n      <th>ISBN</th>\n      <th>Book-Rating</th>\n      <th>Book-Title</th>\n      <th>Book-Author</th>\n      <th>Year-Of-Publication</th>\n      <th>Publisher</th>\n    </tr>\n  </thead>\n  <tbody>\n    <tr>\n      <th>0</th>\n      <td>276725</td>\n      <td>034545104X</td>\n      <td>0</td>\n      <td>Flesh Tones: A Novel</td>\n      <td>M. J. Rose</td>\n      <td>2002</td>\n      <td>Ballantine Books</td>\n    </tr>\n    <tr>\n      <th>1</th>\n      <td>2313</td>\n      <td>034545104X</td>\n      <td>5</td>\n      <td>Flesh Tones: A Novel</td>\n      <td>M. J. Rose</td>\n      <td>2002</td>\n      <td>Ballantine Books</td>\n    </tr>\n    <tr>\n      <th>2</th>\n      <td>6543</td>\n      <td>034545104X</td>\n      <td>0</td>\n      <td>Flesh Tones: A Novel</td>\n      <td>M. J. Rose</td>\n      <td>2002</td>\n      <td>Ballantine Books</td>\n    </tr>\n    <tr>\n      <th>3</th>\n      <td>8680</td>\n      <td>034545104X</td>\n      <td>5</td>\n      <td>Flesh Tones: A Novel</td>\n      <td>M. J. Rose</td>\n      <td>2002</td>\n      <td>Ballantine Books</td>\n    </tr>\n    <tr>\n      <th>4</th>\n      <td>10314</td>\n      <td>034545104X</td>\n      <td>9</td>\n      <td>Flesh Tones: A Novel</td>\n      <td>M. J. Rose</td>\n      <td>2002</td>\n      <td>Ballantine Books</td>\n    </tr>\n    <tr>\n      <th>...</th>\n      <td>...</td>\n      <td>...</td>\n      <td>...</td>\n      <td>...</td>\n      <td>...</td>\n      <td>...</td>\n      <td>...</td>\n    </tr>\n    <tr>\n      <th>1031131</th>\n      <td>276688</td>\n      <td>0517145553</td>\n      <td>0</td>\n      <td>Mostly Harmless</td>\n      <td>Douglas Adams</td>\n      <td>1995</td>\n      <td>Random House Value Pub</td>\n    </tr>\n    <tr>\n      <th>1031132</th>\n      <td>276688</td>\n      <td>1575660792</td>\n      <td>7</td>\n      <td>Gray Matter</td>\n      <td>Shirley Kennett</td>\n      <td>1996</td>\n      <td>Kensington Publishing Corporation</td>\n    </tr>\n    <tr>\n      <th>1031133</th>\n      <td>276690</td>\n      <td>0590907301</td>\n      <td>0</td>\n      <td>Triplet Trouble and the Class Trip (Triplet Tr...</td>\n      <td>Debbie Dadey</td>\n      <td>1997</td>\n      <td>Apple</td>\n    </tr>\n    <tr>\n      <th>1031134</th>\n      <td>276704</td>\n      <td>0679752714</td>\n      <td>0</td>\n      <td>A Desert of Pure Feeling (Vintage Contemporaries)</td>\n      <td>Judith Freeman</td>\n      <td>1997</td>\n      <td>Vintage Books USA</td>\n    </tr>\n    <tr>\n      <th>1031135</th>\n      <td>276704</td>\n      <td>0806917695</td>\n      <td>5</td>\n      <td>Perplexing Lateral Thinking Puzzles: Scholasti...</td>\n      <td>Paul Sloane</td>\n      <td>1997</td>\n      <td>Sterling Publishing</td>\n    </tr>\n  </tbody>\n</table>\n<p>1031136 rows × 7 columns</p>\n</div>"
     },
     "execution_count": 60,
     "metadata": {},
     "output_type": "execute_result"
    }
   ],
   "source": [
    "new_table"
   ],
   "metadata": {
    "collapsed": false,
    "ExecuteTime": {
     "end_time": "2024-09-13T06:12:55.921110276Z",
     "start_time": "2024-09-13T06:12:55.916807119Z"
    }
   },
   "id": "90c1a028fc951000",
   "execution_count": 60
  },
  {
   "cell_type": "code",
   "outputs": [],
   "source": [
    "num_ratings_df = new_table.groupby('Book-Title').count()['Book-Rating'].reset_index()\n",
    "#groupby() will group dataframes in 'Book-Title' based on the unique values, and 'Book-Title' will be converted into an index\n",
    "#count() function will count all unique values in 'all' columns, so ['Book-Rating'] is passed to count only that column\n",
    "#"
   ],
   "metadata": {
    "collapsed": false,
    "ExecuteTime": {
     "end_time": "2024-09-13T06:12:57.164072372Z",
     "start_time": "2024-09-13T06:12:55.960355437Z"
    }
   },
   "id": "50c496429db567ae",
   "execution_count": 61
  },
  {
   "cell_type": "code",
   "outputs": [],
   "source": [
    "num_ratings_df.rename(columns={'Book-Ratings':'num_ratings'}, inplace = True)"
   ],
   "metadata": {
    "collapsed": false,
    "ExecuteTime": {
     "end_time": "2024-09-13T06:12:57.178328540Z",
     "start_time": "2024-09-13T06:12:57.170035349Z"
    }
   },
   "id": "20ad28d828288eb6",
   "execution_count": 62
  },
  {
   "cell_type": "code",
   "outputs": [],
   "source": [
    "avg_rating_df= new_table.groupby(\"Book-Title\").count()['Book-Rating'].reset_index()\n",
    "avg_rating_df.rename(columns={'Book-Ratings':'num_ratings'},inplace = True)"
   ],
   "metadata": {
    "collapsed": false,
    "ExecuteTime": {
     "end_time": "2024-09-13T06:12:57.901499398Z",
     "start_time": "2024-09-13T06:12:57.192265463Z"
    }
   },
   "id": "26c78d98f6e43684",
   "execution_count": 63
  },
  {
   "cell_type": "code",
   "outputs": [
    {
     "data": {
      "text/plain": "                                               Book-Title  Book-Rating_x  \\\n0        A Light in the Storm: The Civil War Diary of ...              4   \n1                                   Always Have Popsicles              1   \n2                    Apple Magic (The Collector's series)              1   \n3        Ask Lily (Young Women of Faith: Lily Series, ...              1   \n4        Beyond IBM: Leadership Marketing and Finance ...              1   \n...                                                   ...            ...   \n241066                                      Ã?Â?lpiraten.              2   \n241067                     Ã?Â?rger mit Produkt X. Roman.              4   \n241068                                Ã?Â?sterlich leben.              1   \n241069                              Ã?Â?stlich der Berge.              3   \n241070                                  Ã?Â?thique en toc              2   \n\n        Book-Rating_y  \n0                   4  \n1                   1  \n2                   1  \n3                   1  \n4                   1  \n...               ...  \n241066              2  \n241067              4  \n241068              1  \n241069              3  \n241070              2  \n\n[241071 rows x 3 columns]",
      "text/html": "<div>\n<style scoped>\n    .dataframe tbody tr th:only-of-type {\n        vertical-align: middle;\n    }\n\n    .dataframe tbody tr th {\n        vertical-align: top;\n    }\n\n    .dataframe thead th {\n        text-align: right;\n    }\n</style>\n<table border=\"1\" class=\"dataframe\">\n  <thead>\n    <tr style=\"text-align: right;\">\n      <th></th>\n      <th>Book-Title</th>\n      <th>Book-Rating_x</th>\n      <th>Book-Rating_y</th>\n    </tr>\n  </thead>\n  <tbody>\n    <tr>\n      <th>0</th>\n      <td>A Light in the Storm: The Civil War Diary of ...</td>\n      <td>4</td>\n      <td>4</td>\n    </tr>\n    <tr>\n      <th>1</th>\n      <td>Always Have Popsicles</td>\n      <td>1</td>\n      <td>1</td>\n    </tr>\n    <tr>\n      <th>2</th>\n      <td>Apple Magic (The Collector's series)</td>\n      <td>1</td>\n      <td>1</td>\n    </tr>\n    <tr>\n      <th>3</th>\n      <td>Ask Lily (Young Women of Faith: Lily Series, ...</td>\n      <td>1</td>\n      <td>1</td>\n    </tr>\n    <tr>\n      <th>4</th>\n      <td>Beyond IBM: Leadership Marketing and Finance ...</td>\n      <td>1</td>\n      <td>1</td>\n    </tr>\n    <tr>\n      <th>...</th>\n      <td>...</td>\n      <td>...</td>\n      <td>...</td>\n    </tr>\n    <tr>\n      <th>241066</th>\n      <td>Ã?Â?lpiraten.</td>\n      <td>2</td>\n      <td>2</td>\n    </tr>\n    <tr>\n      <th>241067</th>\n      <td>Ã?Â?rger mit Produkt X. Roman.</td>\n      <td>4</td>\n      <td>4</td>\n    </tr>\n    <tr>\n      <th>241068</th>\n      <td>Ã?Â?sterlich leben.</td>\n      <td>1</td>\n      <td>1</td>\n    </tr>\n    <tr>\n      <th>241069</th>\n      <td>Ã?Â?stlich der Berge.</td>\n      <td>3</td>\n      <td>3</td>\n    </tr>\n    <tr>\n      <th>241070</th>\n      <td>Ã?Â?thique en toc</td>\n      <td>2</td>\n      <td>2</td>\n    </tr>\n  </tbody>\n</table>\n<p>241071 rows × 3 columns</p>\n</div>"
     },
     "execution_count": 64,
     "metadata": {},
     "output_type": "execute_result"
    }
   ],
   "source": [
    "popular_df = num_ratings_df.merge(avg_rating_df,on = 'Book-Title')\n",
    "popular_df"
   ],
   "metadata": {
    "collapsed": false,
    "ExecuteTime": {
     "end_time": "2024-09-13T06:12:58.085667206Z",
     "start_time": "2024-09-13T06:12:58.035204797Z"
    }
   },
   "id": "3e95687fe5ea9334",
   "execution_count": 64
  },
  {
   "cell_type": "code",
   "outputs": [
    {
     "data": {
      "text/plain": "                                               Book-Title  Book-Rating_x  \\\n234951                                        Wild Animus           2502   \n196326                          The Lovely Bones: A Novel           1295   \n183573                                  The Da Vinci Code            898   \n5303                                      A Painted House            838   \n199237                         The Nanny Diaries: A Novel            828   \n27922                               Bridget Jones's Diary            815   \n206502                            The Secret Life of Bees            774   \n52983     Divine Secrets of the Ya-Ya Sisterhood: A Novel            740   \n204387                The Red Tent (Bestselling Backlist)            723   \n14392                                 Angels &amp; Demons            670   \n107962                                         Life of Pi            664   \n162651                             Snow Falling on Cedars            662   \n209298                                        The Summons            655   \n200253                                       The Notebook            650   \n210064                                      The Testament            617   \n85957                               House of Sand and Fog            588   \n233370  Where the Heart Is (Oprah's Book Club (Paperba...            585   \n201692                                  The Pelican Brief            581   \n80445   Harry Potter and the Sorcerer's Stone (Harry P...            575   \n189266            The Girls' Guide to Hunting and Fishing            573   \n169201                                     Summer Sisters            573   \n187702                                           The Firm            569   \n202244                         The Pilot's Wife : A Novel            568   \n80414    Harry Potter and the Chamber of Secrets (Book 2)            556   \n179274                                       The Brethren            556   \n193428                                  The Joy Luck Club            555   \n219349                                           Timeline            552   \n6980                                       A Time to Kill            549   \n209117                                  The Street Lawyer            545   \n74750                           Girl with a Pearl Earring            526   \n205523                                   The Runaway Jury            520   \n219741                              To Kill a Mockingbird            510   \n818                                   1st to Die: A Novel            509   \n180737                                        The Chamber            509   \n93210                          Interview with the Vampire            508   \n191824                                The Horse Whisperer            507   \n204000                                      The Rainmaker            501   \n119580                                Message in a Bottle            496   \n202550                      The Poisonwood Bible: A Novel            494   \n223135  Tuesdays with Morrie: An Old Man, a Young Man,...            493   \n76343                                         Good in Bed            490   \n97767                                       Jurassic Park            488   \n181392                                         The Client            483   \n55358                                        Dreamcatcher            481   \n201472                                        The Partner            478   \n159301              She's Come Undone (Oprah's Book Club)            468   \n79829                                            Hannibal            468   \n204153                                         The Reader            466   \n193881                                  The King of Torts            458   \n170101                       Suzanne's Diary for Nicholas            457   \n\n        Book-Rating_y  \n234951           2502  \n196326           1295  \n183573            898  \n5303              838  \n199237            828  \n27922             815  \n206502            774  \n52983             740  \n204387            723  \n14392             670  \n107962            664  \n162651            662  \n209298            655  \n200253            650  \n210064            617  \n85957             588  \n233370            585  \n201692            581  \n80445             575  \n189266            573  \n169201            573  \n187702            569  \n202244            568  \n80414             556  \n179274            556  \n193428            555  \n219349            552  \n6980              549  \n209117            545  \n74750             526  \n205523            520  \n219741            510  \n818               509  \n180737            509  \n93210             508  \n191824            507  \n204000            501  \n119580            496  \n202550            494  \n223135            493  \n76343             490  \n97767             488  \n181392            483  \n55358             481  \n201472            478  \n159301            468  \n79829             468  \n204153            466  \n193881            458  \n170101            457  ",
      "text/html": "<div>\n<style scoped>\n    .dataframe tbody tr th:only-of-type {\n        vertical-align: middle;\n    }\n\n    .dataframe tbody tr th {\n        vertical-align: top;\n    }\n\n    .dataframe thead th {\n        text-align: right;\n    }\n</style>\n<table border=\"1\" class=\"dataframe\">\n  <thead>\n    <tr style=\"text-align: right;\">\n      <th></th>\n      <th>Book-Title</th>\n      <th>Book-Rating_x</th>\n      <th>Book-Rating_y</th>\n    </tr>\n  </thead>\n  <tbody>\n    <tr>\n      <th>234951</th>\n      <td>Wild Animus</td>\n      <td>2502</td>\n      <td>2502</td>\n    </tr>\n    <tr>\n      <th>196326</th>\n      <td>The Lovely Bones: A Novel</td>\n      <td>1295</td>\n      <td>1295</td>\n    </tr>\n    <tr>\n      <th>183573</th>\n      <td>The Da Vinci Code</td>\n      <td>898</td>\n      <td>898</td>\n    </tr>\n    <tr>\n      <th>5303</th>\n      <td>A Painted House</td>\n      <td>838</td>\n      <td>838</td>\n    </tr>\n    <tr>\n      <th>199237</th>\n      <td>The Nanny Diaries: A Novel</td>\n      <td>828</td>\n      <td>828</td>\n    </tr>\n    <tr>\n      <th>27922</th>\n      <td>Bridget Jones's Diary</td>\n      <td>815</td>\n      <td>815</td>\n    </tr>\n    <tr>\n      <th>206502</th>\n      <td>The Secret Life of Bees</td>\n      <td>774</td>\n      <td>774</td>\n    </tr>\n    <tr>\n      <th>52983</th>\n      <td>Divine Secrets of the Ya-Ya Sisterhood: A Novel</td>\n      <td>740</td>\n      <td>740</td>\n    </tr>\n    <tr>\n      <th>204387</th>\n      <td>The Red Tent (Bestselling Backlist)</td>\n      <td>723</td>\n      <td>723</td>\n    </tr>\n    <tr>\n      <th>14392</th>\n      <td>Angels &amp;amp; Demons</td>\n      <td>670</td>\n      <td>670</td>\n    </tr>\n    <tr>\n      <th>107962</th>\n      <td>Life of Pi</td>\n      <td>664</td>\n      <td>664</td>\n    </tr>\n    <tr>\n      <th>162651</th>\n      <td>Snow Falling on Cedars</td>\n      <td>662</td>\n      <td>662</td>\n    </tr>\n    <tr>\n      <th>209298</th>\n      <td>The Summons</td>\n      <td>655</td>\n      <td>655</td>\n    </tr>\n    <tr>\n      <th>200253</th>\n      <td>The Notebook</td>\n      <td>650</td>\n      <td>650</td>\n    </tr>\n    <tr>\n      <th>210064</th>\n      <td>The Testament</td>\n      <td>617</td>\n      <td>617</td>\n    </tr>\n    <tr>\n      <th>85957</th>\n      <td>House of Sand and Fog</td>\n      <td>588</td>\n      <td>588</td>\n    </tr>\n    <tr>\n      <th>233370</th>\n      <td>Where the Heart Is (Oprah's Book Club (Paperba...</td>\n      <td>585</td>\n      <td>585</td>\n    </tr>\n    <tr>\n      <th>201692</th>\n      <td>The Pelican Brief</td>\n      <td>581</td>\n      <td>581</td>\n    </tr>\n    <tr>\n      <th>80445</th>\n      <td>Harry Potter and the Sorcerer's Stone (Harry P...</td>\n      <td>575</td>\n      <td>575</td>\n    </tr>\n    <tr>\n      <th>189266</th>\n      <td>The Girls' Guide to Hunting and Fishing</td>\n      <td>573</td>\n      <td>573</td>\n    </tr>\n    <tr>\n      <th>169201</th>\n      <td>Summer Sisters</td>\n      <td>573</td>\n      <td>573</td>\n    </tr>\n    <tr>\n      <th>187702</th>\n      <td>The Firm</td>\n      <td>569</td>\n      <td>569</td>\n    </tr>\n    <tr>\n      <th>202244</th>\n      <td>The Pilot's Wife : A Novel</td>\n      <td>568</td>\n      <td>568</td>\n    </tr>\n    <tr>\n      <th>80414</th>\n      <td>Harry Potter and the Chamber of Secrets (Book 2)</td>\n      <td>556</td>\n      <td>556</td>\n    </tr>\n    <tr>\n      <th>179274</th>\n      <td>The Brethren</td>\n      <td>556</td>\n      <td>556</td>\n    </tr>\n    <tr>\n      <th>193428</th>\n      <td>The Joy Luck Club</td>\n      <td>555</td>\n      <td>555</td>\n    </tr>\n    <tr>\n      <th>219349</th>\n      <td>Timeline</td>\n      <td>552</td>\n      <td>552</td>\n    </tr>\n    <tr>\n      <th>6980</th>\n      <td>A Time to Kill</td>\n      <td>549</td>\n      <td>549</td>\n    </tr>\n    <tr>\n      <th>209117</th>\n      <td>The Street Lawyer</td>\n      <td>545</td>\n      <td>545</td>\n    </tr>\n    <tr>\n      <th>74750</th>\n      <td>Girl with a Pearl Earring</td>\n      <td>526</td>\n      <td>526</td>\n    </tr>\n    <tr>\n      <th>205523</th>\n      <td>The Runaway Jury</td>\n      <td>520</td>\n      <td>520</td>\n    </tr>\n    <tr>\n      <th>219741</th>\n      <td>To Kill a Mockingbird</td>\n      <td>510</td>\n      <td>510</td>\n    </tr>\n    <tr>\n      <th>818</th>\n      <td>1st to Die: A Novel</td>\n      <td>509</td>\n      <td>509</td>\n    </tr>\n    <tr>\n      <th>180737</th>\n      <td>The Chamber</td>\n      <td>509</td>\n      <td>509</td>\n    </tr>\n    <tr>\n      <th>93210</th>\n      <td>Interview with the Vampire</td>\n      <td>508</td>\n      <td>508</td>\n    </tr>\n    <tr>\n      <th>191824</th>\n      <td>The Horse Whisperer</td>\n      <td>507</td>\n      <td>507</td>\n    </tr>\n    <tr>\n      <th>204000</th>\n      <td>The Rainmaker</td>\n      <td>501</td>\n      <td>501</td>\n    </tr>\n    <tr>\n      <th>119580</th>\n      <td>Message in a Bottle</td>\n      <td>496</td>\n      <td>496</td>\n    </tr>\n    <tr>\n      <th>202550</th>\n      <td>The Poisonwood Bible: A Novel</td>\n      <td>494</td>\n      <td>494</td>\n    </tr>\n    <tr>\n      <th>223135</th>\n      <td>Tuesdays with Morrie: An Old Man, a Young Man,...</td>\n      <td>493</td>\n      <td>493</td>\n    </tr>\n    <tr>\n      <th>76343</th>\n      <td>Good in Bed</td>\n      <td>490</td>\n      <td>490</td>\n    </tr>\n    <tr>\n      <th>97767</th>\n      <td>Jurassic Park</td>\n      <td>488</td>\n      <td>488</td>\n    </tr>\n    <tr>\n      <th>181392</th>\n      <td>The Client</td>\n      <td>483</td>\n      <td>483</td>\n    </tr>\n    <tr>\n      <th>55358</th>\n      <td>Dreamcatcher</td>\n      <td>481</td>\n      <td>481</td>\n    </tr>\n    <tr>\n      <th>201472</th>\n      <td>The Partner</td>\n      <td>478</td>\n      <td>478</td>\n    </tr>\n    <tr>\n      <th>159301</th>\n      <td>She's Come Undone (Oprah's Book Club)</td>\n      <td>468</td>\n      <td>468</td>\n    </tr>\n    <tr>\n      <th>79829</th>\n      <td>Hannibal</td>\n      <td>468</td>\n      <td>468</td>\n    </tr>\n    <tr>\n      <th>204153</th>\n      <td>The Reader</td>\n      <td>466</td>\n      <td>466</td>\n    </tr>\n    <tr>\n      <th>193881</th>\n      <td>The King of Torts</td>\n      <td>458</td>\n      <td>458</td>\n    </tr>\n    <tr>\n      <th>170101</th>\n      <td>Suzanne's Diary for Nicholas</td>\n      <td>457</td>\n      <td>457</td>\n    </tr>\n  </tbody>\n</table>\n</div>"
     },
     "execution_count": 65,
     "metadata": {},
     "output_type": "execute_result"
    }
   ],
   "source": [
    "# books with more than 250 rating, aort on top of Book_rating_Y in descending order giving the top 50 entries\n",
    "popular_df[popular_df['Book-Rating_x']>=250].sort_values('Book-Rating_y',ascending=False).head(50)"
   ],
   "metadata": {
    "collapsed": false,
    "ExecuteTime": {
     "end_time": "2024-09-13T06:12:58.108248682Z",
     "start_time": "2024-09-13T06:12:58.083573145Z"
    }
   },
   "id": "924891848a7c7cf",
   "execution_count": 65
  },
  {
   "cell_type": "markdown",
   "source": [
    "# collaborative based"
   ],
   "metadata": {
    "collapsed": false
   },
   "id": "ec08819ac11a3b9"
  },
  {
   "cell_type": "code",
   "outputs": [],
   "source": [
    "ratings_with_name=ratings.merge(books,on='ISBN')\n",
    "X = ratings_with_name.groupby('User-ID').count()['Book-Rating'] > 200"
   ],
   "metadata": {
    "collapsed": false,
    "ExecuteTime": {
     "end_time": "2024-09-13T06:12:59.887385652Z",
     "start_time": "2024-09-13T06:12:58.099256272Z"
    }
   },
   "id": "343d0c29c6e31de4",
   "execution_count": 66
  },
  {
   "cell_type": "code",
   "outputs": [
    {
     "data": {
      "text/plain": "Index([   254,   2276,   2766,   2977,   3363,   4017,   4385,   6251,   6323,\n         6543,\n       ...\n       271705, 273979, 274004, 274061, 274301, 274308, 275970, 277427, 277639,\n       278418],\n      dtype='int64', name='User-ID', length=811)"
     },
     "execution_count": 67,
     "metadata": {},
     "output_type": "execute_result"
    }
   ],
   "source": [
    "rated_users = X[X].index\n",
    "rated_users"
   ],
   "metadata": {
    "collapsed": false,
    "ExecuteTime": {
     "end_time": "2024-09-13T06:12:59.897869412Z",
     "start_time": "2024-09-13T06:12:59.889103029Z"
    }
   },
   "id": "aaaeccfa7a749496",
   "execution_count": 67
  },
  {
   "cell_type": "code",
   "outputs": [],
   "source": [
    "filtered_rating = ratings_with_name[ratings_with_name['User-ID'].isin(rated_users)]"
   ],
   "metadata": {
    "collapsed": false,
    "ExecuteTime": {
     "end_time": "2024-09-13T06:12:59.981232546Z",
     "start_time": "2024-09-13T06:12:59.899951754Z"
    }
   },
   "id": "e064337eb5e0d9c",
   "execution_count": 68
  },
  {
   "cell_type": "code",
   "outputs": [
    {
     "data": {
      "text/plain": "         User-ID        ISBN  Book-Rating  \\\n2           6543  034545104X            0   \n5          23768  034545104X            0   \n7          28523  034545104X            0   \n15         77940  034545104X            0   \n16         81977  034545104X            0   \n...          ...         ...          ...   \n1030883   275970  1880837927            0   \n1030884   275970  188717897X            0   \n1030885   275970  1888889047            0   \n1030886   275970  1931868123            0   \n1030887   275970  3411086211           10   \n\n                                                Book-Title  \\\n2                                     Flesh Tones: A Novel   \n5                                     Flesh Tones: A Novel   \n7                                     Flesh Tones: A Novel   \n15                                    Flesh Tones: A Novel   \n16                                    Flesh Tones: A Novel   \n...                                                    ...   \n1030883                         The Theology of the Hammer   \n1030884  The Ordeal of Integration: Progress and Resent...   \n1030885  Pushcart's Complete Rotten Reviews &amp; Rejec...   \n1030886  There's a Porcupine in My Outhouse: Misadventu...   \n1030887                                         Die Biene.   \n\n                           Book-Author Year-Of-Publication  \\\n2                           M. J. Rose                2002   \n5                           M. J. Rose                2002   \n7                           M. J. Rose                2002   \n15                          M. J. Rose                2002   \n16                          M. J. Rose                2002   \n...                                ...                 ...   \n1030883                 Millard Fuller                1994   \n1030884              Orlando Patterson                1998   \n1030885                 Bill Henderson                1998   \n1030886                   Mike Tougias                2002   \n1030887  Sybil GrÃ?Â¤fin SchÃ?Â¶nfeldt                1993   \n\n                                    Publisher  \n2                            Ballantine Books  \n5                            Ballantine Books  \n7                            Ballantine Books  \n15                           Ballantine Books  \n16                           Ballantine Books  \n...                                       ...  \n1030883         Smyth &amp; Helwys Publishing  \n1030884                Civitas Book Publisher  \n1030885                        Pushcart Press  \n1030886                    Capital Books (VA)  \n1030887  Bibliographisches Institut, Mannheim  \n\n[474007 rows x 7 columns]",
      "text/html": "<div>\n<style scoped>\n    .dataframe tbody tr th:only-of-type {\n        vertical-align: middle;\n    }\n\n    .dataframe tbody tr th {\n        vertical-align: top;\n    }\n\n    .dataframe thead th {\n        text-align: right;\n    }\n</style>\n<table border=\"1\" class=\"dataframe\">\n  <thead>\n    <tr style=\"text-align: right;\">\n      <th></th>\n      <th>User-ID</th>\n      <th>ISBN</th>\n      <th>Book-Rating</th>\n      <th>Book-Title</th>\n      <th>Book-Author</th>\n      <th>Year-Of-Publication</th>\n      <th>Publisher</th>\n    </tr>\n  </thead>\n  <tbody>\n    <tr>\n      <th>2</th>\n      <td>6543</td>\n      <td>034545104X</td>\n      <td>0</td>\n      <td>Flesh Tones: A Novel</td>\n      <td>M. J. Rose</td>\n      <td>2002</td>\n      <td>Ballantine Books</td>\n    </tr>\n    <tr>\n      <th>5</th>\n      <td>23768</td>\n      <td>034545104X</td>\n      <td>0</td>\n      <td>Flesh Tones: A Novel</td>\n      <td>M. J. Rose</td>\n      <td>2002</td>\n      <td>Ballantine Books</td>\n    </tr>\n    <tr>\n      <th>7</th>\n      <td>28523</td>\n      <td>034545104X</td>\n      <td>0</td>\n      <td>Flesh Tones: A Novel</td>\n      <td>M. J. Rose</td>\n      <td>2002</td>\n      <td>Ballantine Books</td>\n    </tr>\n    <tr>\n      <th>15</th>\n      <td>77940</td>\n      <td>034545104X</td>\n      <td>0</td>\n      <td>Flesh Tones: A Novel</td>\n      <td>M. J. Rose</td>\n      <td>2002</td>\n      <td>Ballantine Books</td>\n    </tr>\n    <tr>\n      <th>16</th>\n      <td>81977</td>\n      <td>034545104X</td>\n      <td>0</td>\n      <td>Flesh Tones: A Novel</td>\n      <td>M. J. Rose</td>\n      <td>2002</td>\n      <td>Ballantine Books</td>\n    </tr>\n    <tr>\n      <th>...</th>\n      <td>...</td>\n      <td>...</td>\n      <td>...</td>\n      <td>...</td>\n      <td>...</td>\n      <td>...</td>\n      <td>...</td>\n    </tr>\n    <tr>\n      <th>1030883</th>\n      <td>275970</td>\n      <td>1880837927</td>\n      <td>0</td>\n      <td>The Theology of the Hammer</td>\n      <td>Millard Fuller</td>\n      <td>1994</td>\n      <td>Smyth &amp;amp; Helwys Publishing</td>\n    </tr>\n    <tr>\n      <th>1030884</th>\n      <td>275970</td>\n      <td>188717897X</td>\n      <td>0</td>\n      <td>The Ordeal of Integration: Progress and Resent...</td>\n      <td>Orlando Patterson</td>\n      <td>1998</td>\n      <td>Civitas Book Publisher</td>\n    </tr>\n    <tr>\n      <th>1030885</th>\n      <td>275970</td>\n      <td>1888889047</td>\n      <td>0</td>\n      <td>Pushcart's Complete Rotten Reviews &amp;amp; Rejec...</td>\n      <td>Bill Henderson</td>\n      <td>1998</td>\n      <td>Pushcart Press</td>\n    </tr>\n    <tr>\n      <th>1030886</th>\n      <td>275970</td>\n      <td>1931868123</td>\n      <td>0</td>\n      <td>There's a Porcupine in My Outhouse: Misadventu...</td>\n      <td>Mike Tougias</td>\n      <td>2002</td>\n      <td>Capital Books (VA)</td>\n    </tr>\n    <tr>\n      <th>1030887</th>\n      <td>275970</td>\n      <td>3411086211</td>\n      <td>10</td>\n      <td>Die Biene.</td>\n      <td>Sybil GrÃ?Â¤fin SchÃ?Â¶nfeldt</td>\n      <td>1993</td>\n      <td>Bibliographisches Institut, Mannheim</td>\n    </tr>\n  </tbody>\n</table>\n<p>474007 rows × 7 columns</p>\n</div>"
     },
     "execution_count": 69,
     "metadata": {},
     "output_type": "execute_result"
    }
   ],
   "source": [
    "filtered_rating"
   ],
   "metadata": {
    "collapsed": false,
    "ExecuteTime": {
     "end_time": "2024-09-13T06:13:00.018674125Z",
     "start_time": "2024-09-13T06:12:59.983092635Z"
    }
   },
   "id": "7557e5006268ff95",
   "execution_count": 69
  },
  {
   "cell_type": "code",
   "outputs": [],
   "source": [
    "y=filtered_rating.groupby('Book-Title').count()['Book-Rating']>=50"
   ],
   "metadata": {
    "collapsed": false,
    "ExecuteTime": {
     "end_time": "2024-09-13T06:13:00.431791204Z",
     "start_time": "2024-09-13T06:13:00.004546412Z"
    }
   },
   "id": "30ac87fbb577f0a4",
   "execution_count": 70
  },
  {
   "cell_type": "code",
   "outputs": [
    {
     "data": {
      "text/plain": "Index(['1984', '1st to Die: A Novel', '2nd Chance', '4 Blondes',\n       'A Bend in the Road', 'A Case of Need',\n       'A Child Called \\It\\\": One Child's Courage to Survive\"',\n       'A Civil Action', 'A Day Late and a Dollar Short', 'A Fine Balance',\n       ...\n       'Winter Solstice', 'Wish You Well', 'Without Remorse',\n       'Wizard and Glass (The Dark Tower, Book 4)', 'Wuthering Heights',\n       'Year of Wonders', 'You Belong To Me',\n       'Zen and the Art of Motorcycle Maintenance: An Inquiry into Values',\n       'Zoya', '\\O\\\" Is for Outlaw\"'],\n      dtype='object', name='Book-Title', length=706)"
     },
     "execution_count": 71,
     "metadata": {},
     "output_type": "execute_result"
    }
   ],
   "source": [
    "famous_books = y[y].index\n",
    "famous_books"
   ],
   "metadata": {
    "collapsed": false,
    "ExecuteTime": {
     "end_time": "2024-09-13T06:13:00.443031900Z",
     "start_time": "2024-09-13T06:13:00.436619900Z"
    }
   },
   "id": "b5bf667f1e86b896",
   "execution_count": 71
  },
  {
   "cell_type": "code",
   "outputs": [
    {
     "data": {
      "text/plain": "         User-ID        ISBN  Book-Rating              Book-Title  \\\n63        278418  0446520802            0            The Notebook   \n65          3363  0446520802            0            The Notebook   \n66          7158  0446520802           10            The Notebook   \n69         11676  0446520802           10            The Notebook   \n74         23768  0446520802            6            The Notebook   \n...          ...         ...          ...                     ...   \n1026724   266865  0531001725           10  The Catcher in the Rye   \n1027923   269566  0670809381            0                  Echoes   \n1028777   271284  0440910927            0           The Rainmaker   \n1029070   271705  B0001PIOX4            0          Fahrenheit 451   \n1030868   275970  1586210661            9  Me Talk Pretty One Day   \n\n                   Book-Author Year-Of-Publication                Publisher  \n63             Nicholas Sparks                1996             Warner Books  \n65             Nicholas Sparks                1996             Warner Books  \n66             Nicholas Sparks                1996             Warner Books  \n69             Nicholas Sparks                1996             Warner Books  \n74             Nicholas Sparks                1996             Warner Books  \n...                        ...                 ...                      ...  \n1026724  Jerome David Salinger                1973   Scholastic Library Pub  \n1027923           Maeve Binchy                1986              Penguin USA  \n1028777           John Grisham                1995                   Island  \n1029070           Ray Bradbury                1993     Simon &amp; Schuster  \n1030868          David Sedaris                2001  Time Warner Audio Major  \n\n[58586 rows x 7 columns]",
      "text/html": "<div>\n<style scoped>\n    .dataframe tbody tr th:only-of-type {\n        vertical-align: middle;\n    }\n\n    .dataframe tbody tr th {\n        vertical-align: top;\n    }\n\n    .dataframe thead th {\n        text-align: right;\n    }\n</style>\n<table border=\"1\" class=\"dataframe\">\n  <thead>\n    <tr style=\"text-align: right;\">\n      <th></th>\n      <th>User-ID</th>\n      <th>ISBN</th>\n      <th>Book-Rating</th>\n      <th>Book-Title</th>\n      <th>Book-Author</th>\n      <th>Year-Of-Publication</th>\n      <th>Publisher</th>\n    </tr>\n  </thead>\n  <tbody>\n    <tr>\n      <th>63</th>\n      <td>278418</td>\n      <td>0446520802</td>\n      <td>0</td>\n      <td>The Notebook</td>\n      <td>Nicholas Sparks</td>\n      <td>1996</td>\n      <td>Warner Books</td>\n    </tr>\n    <tr>\n      <th>65</th>\n      <td>3363</td>\n      <td>0446520802</td>\n      <td>0</td>\n      <td>The Notebook</td>\n      <td>Nicholas Sparks</td>\n      <td>1996</td>\n      <td>Warner Books</td>\n    </tr>\n    <tr>\n      <th>66</th>\n      <td>7158</td>\n      <td>0446520802</td>\n      <td>10</td>\n      <td>The Notebook</td>\n      <td>Nicholas Sparks</td>\n      <td>1996</td>\n      <td>Warner Books</td>\n    </tr>\n    <tr>\n      <th>69</th>\n      <td>11676</td>\n      <td>0446520802</td>\n      <td>10</td>\n      <td>The Notebook</td>\n      <td>Nicholas Sparks</td>\n      <td>1996</td>\n      <td>Warner Books</td>\n    </tr>\n    <tr>\n      <th>74</th>\n      <td>23768</td>\n      <td>0446520802</td>\n      <td>6</td>\n      <td>The Notebook</td>\n      <td>Nicholas Sparks</td>\n      <td>1996</td>\n      <td>Warner Books</td>\n    </tr>\n    <tr>\n      <th>...</th>\n      <td>...</td>\n      <td>...</td>\n      <td>...</td>\n      <td>...</td>\n      <td>...</td>\n      <td>...</td>\n      <td>...</td>\n    </tr>\n    <tr>\n      <th>1026724</th>\n      <td>266865</td>\n      <td>0531001725</td>\n      <td>10</td>\n      <td>The Catcher in the Rye</td>\n      <td>Jerome David Salinger</td>\n      <td>1973</td>\n      <td>Scholastic Library Pub</td>\n    </tr>\n    <tr>\n      <th>1027923</th>\n      <td>269566</td>\n      <td>0670809381</td>\n      <td>0</td>\n      <td>Echoes</td>\n      <td>Maeve Binchy</td>\n      <td>1986</td>\n      <td>Penguin USA</td>\n    </tr>\n    <tr>\n      <th>1028777</th>\n      <td>271284</td>\n      <td>0440910927</td>\n      <td>0</td>\n      <td>The Rainmaker</td>\n      <td>John Grisham</td>\n      <td>1995</td>\n      <td>Island</td>\n    </tr>\n    <tr>\n      <th>1029070</th>\n      <td>271705</td>\n      <td>B0001PIOX4</td>\n      <td>0</td>\n      <td>Fahrenheit 451</td>\n      <td>Ray Bradbury</td>\n      <td>1993</td>\n      <td>Simon &amp;amp; Schuster</td>\n    </tr>\n    <tr>\n      <th>1030868</th>\n      <td>275970</td>\n      <td>1586210661</td>\n      <td>9</td>\n      <td>Me Talk Pretty One Day</td>\n      <td>David Sedaris</td>\n      <td>2001</td>\n      <td>Time Warner Audio Major</td>\n    </tr>\n  </tbody>\n</table>\n<p>58586 rows × 7 columns</p>\n</div>"
     },
     "execution_count": 72,
     "metadata": {},
     "output_type": "execute_result"
    }
   ],
   "source": [
    "final_ratings = filtered_rating[filtered_rating['Book-Title'].isin(famous_books)]\n",
    "final_ratings.drop_duplicates()"
   ],
   "metadata": {
    "collapsed": false,
    "ExecuteTime": {
     "end_time": "2024-09-13T06:13:00.572256873Z",
     "start_time": "2024-09-13T06:13:00.477593899Z"
    }
   },
   "id": "362b261653473817",
   "execution_count": 72
  },
  {
   "cell_type": "code",
   "outputs": [],
   "source": [
    "pt = final_ratings.pivot_table(index='Book-Title',columns='User-ID',values = 'Book-Rating')"
   ],
   "metadata": {
    "collapsed": false,
    "ExecuteTime": {
     "end_time": "2024-09-13T06:13:00.674131496Z",
     "start_time": "2024-09-13T06:13:00.541482409Z"
    }
   },
   "id": "2298983a27a88b3d",
   "execution_count": 73
  },
  {
   "cell_type": "code",
   "outputs": [],
   "source": [
    "pt.fillna(0,inplace=True)"
   ],
   "metadata": {
    "collapsed": false,
    "ExecuteTime": {
     "end_time": "2024-09-13T06:13:00.730951892Z",
     "start_time": "2024-09-13T06:13:00.635644483Z"
    }
   },
   "id": "25c9cc3d157591a3",
   "execution_count": 74
  },
  {
   "cell_type": "code",
   "outputs": [
    {
     "data": {
      "text/plain": "User-ID                                             254     2276    2766    \\\nBook-Title                                                                   \n1984                                                   9.0     0.0     0.0   \n1st to Die: A Novel                                    0.0     0.0     0.0   \n2nd Chance                                             0.0    10.0     0.0   \n4 Blondes                                              0.0     0.0     0.0   \nA Bend in the Road                                     0.0     0.0     7.0   \n...                                                    ...     ...     ...   \nYear of Wonders                                        0.0     0.0     0.0   \nYou Belong To Me                                       0.0     0.0     0.0   \nZen and the Art of Motorcycle Maintenance: An I...     0.0     0.0     0.0   \nZoya                                                   0.0     0.0     0.0   \n\\O\\\" Is for Outlaw\"                                    0.0     0.0     0.0   \n\nUser-ID                                             2977    3363    4017    \\\nBook-Title                                                                   \n1984                                                   0.0     0.0     0.0   \n1st to Die: A Novel                                    0.0     0.0     0.0   \n2nd Chance                                             0.0     0.0     0.0   \n4 Blondes                                              0.0     0.0     0.0   \nA Bend in the Road                                     0.0     0.0     0.0   \n...                                                    ...     ...     ...   \nYear of Wonders                                        7.0     0.0     0.0   \nYou Belong To Me                                       0.0     0.0     0.0   \nZen and the Art of Motorcycle Maintenance: An I...     0.0     0.0     0.0   \nZoya                                                   0.0     0.0     0.0   \n\\O\\\" Is for Outlaw\"                                    0.0     0.0     0.0   \n\nUser-ID                                             4385    6251    6323    \\\nBook-Title                                                                   \n1984                                                   0.0     0.0     0.0   \n1st to Die: A Novel                                    0.0     0.0     0.0   \n2nd Chance                                             0.0     0.0     0.0   \n4 Blondes                                              0.0     0.0     0.0   \nA Bend in the Road                                     0.0     0.0     0.0   \n...                                                    ...     ...     ...   \nYear of Wonders                                        0.0     0.0     0.0   \nYou Belong To Me                                       0.0     0.0     0.0   \nZen and the Art of Motorcycle Maintenance: An I...     0.0     0.0     0.0   \nZoya                                                   0.0     0.0     0.0   \n\\O\\\" Is for Outlaw\"                                    0.0     0.0     0.0   \n\nUser-ID                                             6543    ...  271705  \\\nBook-Title                                                  ...           \n1984                                                   0.0  ...    10.0   \n1st to Die: A Novel                                    9.0  ...     0.0   \n2nd Chance                                             0.0  ...     0.0   \n4 Blondes                                              0.0  ...     0.0   \nA Bend in the Road                                     0.0  ...     0.0   \n...                                                    ...  ...     ...   \nYear of Wonders                                        0.0  ...     0.0   \nYou Belong To Me                                       0.0  ...     0.0   \nZen and the Art of Motorcycle Maintenance: An I...     0.0  ...     0.0   \nZoya                                                   0.0  ...     0.0   \n\\O\\\" Is for Outlaw\"                                    0.0  ...     0.0   \n\nUser-ID                                             273979  274004  274061  \\\nBook-Title                                                                   \n1984                                                   0.0     0.0     0.0   \n1st to Die: A Novel                                    0.0     0.0     0.0   \n2nd Chance                                             0.0     0.0     0.0   \n4 Blondes                                              0.0     0.0     0.0   \nA Bend in the Road                                     0.0     0.0     0.0   \n...                                                    ...     ...     ...   \nYear of Wonders                                        9.0     0.0     0.0   \nYou Belong To Me                                       0.0     0.0     0.0   \nZen and the Art of Motorcycle Maintenance: An I...     0.0     0.0     0.0   \nZoya                                                   0.0     0.0     0.0   \n\\O\\\" Is for Outlaw\"                                    0.0     0.0     0.0   \n\nUser-ID                                             274301  274308  275970  \\\nBook-Title                                                                   \n1984                                                   0.0     0.0     0.0   \n1st to Die: A Novel                                    0.0     0.0     0.0   \n2nd Chance                                             0.0     0.0     0.0   \n4 Blondes                                              0.0     0.0     0.0   \nA Bend in the Road                                     0.0     0.0     0.0   \n...                                                    ...     ...     ...   \nYear of Wonders                                        0.0     0.0     0.0   \nYou Belong To Me                                       0.0     0.0     0.0   \nZen and the Art of Motorcycle Maintenance: An I...     0.0     0.0     0.0   \nZoya                                                   0.0     0.0     0.0   \n\\O\\\" Is for Outlaw\"                                    8.0     0.0     0.0   \n\nUser-ID                                             277427  277639  278418  \nBook-Title                                                                  \n1984                                                   0.0     0.0     0.0  \n1st to Die: A Novel                                    0.0     0.0     0.0  \n2nd Chance                                             0.0     0.0     0.0  \n4 Blondes                                              0.0     0.0     0.0  \nA Bend in the Road                                     0.0     0.0     0.0  \n...                                                    ...     ...     ...  \nYear of Wonders                                        0.0     0.0     0.0  \nYou Belong To Me                                       0.0     0.0     0.0  \nZen and the Art of Motorcycle Maintenance: An I...     0.0     0.0     0.0  \nZoya                                                   0.0     0.0     0.0  \n\\O\\\" Is for Outlaw\"                                    0.0     0.0     0.0  \n\n[706 rows x 810 columns]",
      "text/html": "<div>\n<style scoped>\n    .dataframe tbody tr th:only-of-type {\n        vertical-align: middle;\n    }\n\n    .dataframe tbody tr th {\n        vertical-align: top;\n    }\n\n    .dataframe thead th {\n        text-align: right;\n    }\n</style>\n<table border=\"1\" class=\"dataframe\">\n  <thead>\n    <tr style=\"text-align: right;\">\n      <th>User-ID</th>\n      <th>254</th>\n      <th>2276</th>\n      <th>2766</th>\n      <th>2977</th>\n      <th>3363</th>\n      <th>4017</th>\n      <th>4385</th>\n      <th>6251</th>\n      <th>6323</th>\n      <th>6543</th>\n      <th>...</th>\n      <th>271705</th>\n      <th>273979</th>\n      <th>274004</th>\n      <th>274061</th>\n      <th>274301</th>\n      <th>274308</th>\n      <th>275970</th>\n      <th>277427</th>\n      <th>277639</th>\n      <th>278418</th>\n    </tr>\n    <tr>\n      <th>Book-Title</th>\n      <th></th>\n      <th></th>\n      <th></th>\n      <th></th>\n      <th></th>\n      <th></th>\n      <th></th>\n      <th></th>\n      <th></th>\n      <th></th>\n      <th></th>\n      <th></th>\n      <th></th>\n      <th></th>\n      <th></th>\n      <th></th>\n      <th></th>\n      <th></th>\n      <th></th>\n      <th></th>\n      <th></th>\n    </tr>\n  </thead>\n  <tbody>\n    <tr>\n      <th>1984</th>\n      <td>9.0</td>\n      <td>0.0</td>\n      <td>0.0</td>\n      <td>0.0</td>\n      <td>0.0</td>\n      <td>0.0</td>\n      <td>0.0</td>\n      <td>0.0</td>\n      <td>0.0</td>\n      <td>0.0</td>\n      <td>...</td>\n      <td>10.0</td>\n      <td>0.0</td>\n      <td>0.0</td>\n      <td>0.0</td>\n      <td>0.0</td>\n      <td>0.0</td>\n      <td>0.0</td>\n      <td>0.0</td>\n      <td>0.0</td>\n      <td>0.0</td>\n    </tr>\n    <tr>\n      <th>1st to Die: A Novel</th>\n      <td>0.0</td>\n      <td>0.0</td>\n      <td>0.0</td>\n      <td>0.0</td>\n      <td>0.0</td>\n      <td>0.0</td>\n      <td>0.0</td>\n      <td>0.0</td>\n      <td>0.0</td>\n      <td>9.0</td>\n      <td>...</td>\n      <td>0.0</td>\n      <td>0.0</td>\n      <td>0.0</td>\n      <td>0.0</td>\n      <td>0.0</td>\n      <td>0.0</td>\n      <td>0.0</td>\n      <td>0.0</td>\n      <td>0.0</td>\n      <td>0.0</td>\n    </tr>\n    <tr>\n      <th>2nd Chance</th>\n      <td>0.0</td>\n      <td>10.0</td>\n      <td>0.0</td>\n      <td>0.0</td>\n      <td>0.0</td>\n      <td>0.0</td>\n      <td>0.0</td>\n      <td>0.0</td>\n      <td>0.0</td>\n      <td>0.0</td>\n      <td>...</td>\n      <td>0.0</td>\n      <td>0.0</td>\n      <td>0.0</td>\n      <td>0.0</td>\n      <td>0.0</td>\n      <td>0.0</td>\n      <td>0.0</td>\n      <td>0.0</td>\n      <td>0.0</td>\n      <td>0.0</td>\n    </tr>\n    <tr>\n      <th>4 Blondes</th>\n      <td>0.0</td>\n      <td>0.0</td>\n      <td>0.0</td>\n      <td>0.0</td>\n      <td>0.0</td>\n      <td>0.0</td>\n      <td>0.0</td>\n      <td>0.0</td>\n      <td>0.0</td>\n      <td>0.0</td>\n      <td>...</td>\n      <td>0.0</td>\n      <td>0.0</td>\n      <td>0.0</td>\n      <td>0.0</td>\n      <td>0.0</td>\n      <td>0.0</td>\n      <td>0.0</td>\n      <td>0.0</td>\n      <td>0.0</td>\n      <td>0.0</td>\n    </tr>\n    <tr>\n      <th>A Bend in the Road</th>\n      <td>0.0</td>\n      <td>0.0</td>\n      <td>7.0</td>\n      <td>0.0</td>\n      <td>0.0</td>\n      <td>0.0</td>\n      <td>0.0</td>\n      <td>0.0</td>\n      <td>0.0</td>\n      <td>0.0</td>\n      <td>...</td>\n      <td>0.0</td>\n      <td>0.0</td>\n      <td>0.0</td>\n      <td>0.0</td>\n      <td>0.0</td>\n      <td>0.0</td>\n      <td>0.0</td>\n      <td>0.0</td>\n      <td>0.0</td>\n      <td>0.0</td>\n    </tr>\n    <tr>\n      <th>...</th>\n      <td>...</td>\n      <td>...</td>\n      <td>...</td>\n      <td>...</td>\n      <td>...</td>\n      <td>...</td>\n      <td>...</td>\n      <td>...</td>\n      <td>...</td>\n      <td>...</td>\n      <td>...</td>\n      <td>...</td>\n      <td>...</td>\n      <td>...</td>\n      <td>...</td>\n      <td>...</td>\n      <td>...</td>\n      <td>...</td>\n      <td>...</td>\n      <td>...</td>\n      <td>...</td>\n    </tr>\n    <tr>\n      <th>Year of Wonders</th>\n      <td>0.0</td>\n      <td>0.0</td>\n      <td>0.0</td>\n      <td>7.0</td>\n      <td>0.0</td>\n      <td>0.0</td>\n      <td>0.0</td>\n      <td>0.0</td>\n      <td>0.0</td>\n      <td>0.0</td>\n      <td>...</td>\n      <td>0.0</td>\n      <td>9.0</td>\n      <td>0.0</td>\n      <td>0.0</td>\n      <td>0.0</td>\n      <td>0.0</td>\n      <td>0.0</td>\n      <td>0.0</td>\n      <td>0.0</td>\n      <td>0.0</td>\n    </tr>\n    <tr>\n      <th>You Belong To Me</th>\n      <td>0.0</td>\n      <td>0.0</td>\n      <td>0.0</td>\n      <td>0.0</td>\n      <td>0.0</td>\n      <td>0.0</td>\n      <td>0.0</td>\n      <td>0.0</td>\n      <td>0.0</td>\n      <td>0.0</td>\n      <td>...</td>\n      <td>0.0</td>\n      <td>0.0</td>\n      <td>0.0</td>\n      <td>0.0</td>\n      <td>0.0</td>\n      <td>0.0</td>\n      <td>0.0</td>\n      <td>0.0</td>\n      <td>0.0</td>\n      <td>0.0</td>\n    </tr>\n    <tr>\n      <th>Zen and the Art of Motorcycle Maintenance: An Inquiry into Values</th>\n      <td>0.0</td>\n      <td>0.0</td>\n      <td>0.0</td>\n      <td>0.0</td>\n      <td>0.0</td>\n      <td>0.0</td>\n      <td>0.0</td>\n      <td>0.0</td>\n      <td>0.0</td>\n      <td>0.0</td>\n      <td>...</td>\n      <td>0.0</td>\n      <td>0.0</td>\n      <td>0.0</td>\n      <td>0.0</td>\n      <td>0.0</td>\n      <td>0.0</td>\n      <td>0.0</td>\n      <td>0.0</td>\n      <td>0.0</td>\n      <td>0.0</td>\n    </tr>\n    <tr>\n      <th>Zoya</th>\n      <td>0.0</td>\n      <td>0.0</td>\n      <td>0.0</td>\n      <td>0.0</td>\n      <td>0.0</td>\n      <td>0.0</td>\n      <td>0.0</td>\n      <td>0.0</td>\n      <td>0.0</td>\n      <td>0.0</td>\n      <td>...</td>\n      <td>0.0</td>\n      <td>0.0</td>\n      <td>0.0</td>\n      <td>0.0</td>\n      <td>0.0</td>\n      <td>0.0</td>\n      <td>0.0</td>\n      <td>0.0</td>\n      <td>0.0</td>\n      <td>0.0</td>\n    </tr>\n    <tr>\n      <th>\\O\\\" Is for Outlaw\"</th>\n      <td>0.0</td>\n      <td>0.0</td>\n      <td>0.0</td>\n      <td>0.0</td>\n      <td>0.0</td>\n      <td>0.0</td>\n      <td>0.0</td>\n      <td>0.0</td>\n      <td>0.0</td>\n      <td>0.0</td>\n      <td>...</td>\n      <td>0.0</td>\n      <td>0.0</td>\n      <td>0.0</td>\n      <td>0.0</td>\n      <td>8.0</td>\n      <td>0.0</td>\n      <td>0.0</td>\n      <td>0.0</td>\n      <td>0.0</td>\n      <td>0.0</td>\n    </tr>\n  </tbody>\n</table>\n<p>706 rows × 810 columns</p>\n</div>"
     },
     "execution_count": 75,
     "metadata": {},
     "output_type": "execute_result"
    }
   ],
   "source": [
    "pt"
   ],
   "metadata": {
    "collapsed": false,
    "ExecuteTime": {
     "end_time": "2024-09-13T06:13:00.809257101Z",
     "start_time": "2024-09-13T06:13:00.683454759Z"
    }
   },
   "id": "967282a31e247532",
   "execution_count": 75
  },
  {
   "cell_type": "code",
   "outputs": [],
   "source": [
    "from sklearn.metrics.pairwise import cosine_similarity"
   ],
   "metadata": {
    "collapsed": false,
    "ExecuteTime": {
     "end_time": "2024-09-13T06:13:00.812249174Z",
     "start_time": "2024-09-13T06:13:00.731210704Z"
    }
   },
   "id": "7ab3e0e09e1abc3c",
   "execution_count": 76
  },
  {
   "cell_type": "code",
   "outputs": [],
   "source": [
    "similarity_scores = cosine_similarity(pt)"
   ],
   "metadata": {
    "collapsed": false,
    "ExecuteTime": {
     "end_time": "2024-09-13T06:13:00.817321345Z",
     "start_time": "2024-09-13T06:13:00.731438205Z"
    }
   },
   "id": "ec6516280cacb806",
   "execution_count": 77
  },
  {
   "cell_type": "code",
   "outputs": [
    {
     "data": {
      "text/plain": "(706, 706)"
     },
     "execution_count": 78,
     "metadata": {},
     "output_type": "execute_result"
    }
   ],
   "source": [
    "similarity_scores.shape"
   ],
   "metadata": {
    "collapsed": false,
    "ExecuteTime": {
     "end_time": "2024-09-13T06:13:00.836124917Z",
     "start_time": "2024-09-13T06:13:00.737984329Z"
    }
   },
   "id": "7394b4c90c24731e",
   "execution_count": 78
  },
  {
   "cell_type": "code",
   "outputs": [],
   "source": [
    "def recommend(book_name:str):\n",
    "    index = np.where(pt.index==book_name)[0][0]\n",
    "    similar_items = sorted(list(enumerate(similarity_scores[index])), key=lambda x: x[1], reverse=True)[1:6]\n",
    "    data = []\n",
    "    for i in similar_items:\n",
    "        item = []\n",
    "        temp_df = books[books['Book-Title'] == pt.index[i[0]]]\n",
    "        item.extend(list(temp_df.drop_duplicates('Book-Title')['Book-Title'].values))\n",
    "        item.extend(list(temp_df.drop_duplicates('Book-Title')['Book-Author'].values))\n",
    "        #item.extend(list(temp_df.drop_duplicates('Book-Title')['Book-Title'].values))\n",
    "        data.append(item)\n",
    "    return data\n"
   ],
   "metadata": {
    "collapsed": false,
    "ExecuteTime": {
     "end_time": "2024-09-13T06:13:00.888053800Z",
     "start_time": "2024-09-13T06:13:00.749594090Z"
    }
   },
   "id": "237b373b8fa38544",
   "execution_count": 79
  },
  {
   "cell_type": "code",
   "outputs": [
    {
     "data": {
      "text/plain": "[['Animal Farm', 'George Orwell'],\n [\"The Handmaid's Tale\", 'Margaret Atwood'],\n ['Brave New World', 'Aldous Huxley'],\n ['The Vampire Lestat (Vampire Chronicles, Book II)', 'ANNE RICE'],\n ['The Hours : A Novel', 'Michael Cunningham']]"
     },
     "execution_count": 80,
     "metadata": {},
     "output_type": "execute_result"
    }
   ],
   "source": [
    "#np.where(pt.index=='Zoya')[0][0]\n",
    "recommend('1984')"
   ],
   "metadata": {
    "collapsed": false,
    "ExecuteTime": {
     "end_time": "2024-09-13T06:13:01.152836266Z",
     "start_time": "2024-09-13T06:13:00.794918608Z"
    }
   },
   "id": "edc897ec20823e13",
   "execution_count": 80
  },
  {
   "cell_type": "code",
   "outputs": [],
   "source": [
    "import pickle\n",
    "pickle.dump(popular_df,open('popular.pkl','wb'))# wb means write binary"
   ],
   "metadata": {
    "collapsed": false,
    "ExecuteTime": {
     "end_time": "2024-09-13T06:13:01.312855946Z",
     "start_time": "2024-09-13T06:13:00.940574942Z"
    }
   },
   "id": "dcbe0bd852c67e7a",
   "execution_count": 81
  },
  {
   "cell_type": "code",
   "outputs": [],
   "source": [
    "pickle.dump(pt,open('pt.pkl','wb'))\n",
    "pickle.dump(books,open('books.pkl','wb'))\n",
    "pickle.dump(similarity_scores,open('similarity_scores.pkl','wb'))"
   ],
   "metadata": {
    "collapsed": false,
    "ExecuteTime": {
     "end_time": "2024-09-13T06:24:04.255809884Z",
     "start_time": "2024-09-13T06:24:03.869632665Z"
    }
   },
   "id": "33894af5fa1bf054",
   "execution_count": 83
  },
  {
   "cell_type": "code",
   "outputs": [],
   "source": [],
   "metadata": {
    "collapsed": false
   },
   "id": "489b75f523f960e4"
  }
 ],
 "metadata": {
  "kernelspec": {
   "display_name": "Python 3",
   "language": "python",
   "name": "python3"
  },
  "language_info": {
   "codemirror_mode": {
    "name": "ipython",
    "version": 2
   },
   "file_extension": ".py",
   "mimetype": "text/x-python",
   "name": "python",
   "nbconvert_exporter": "python",
   "pygments_lexer": "ipython2",
   "version": "2.7.6"
  }
 },
 "nbformat": 4,
 "nbformat_minor": 5
}
